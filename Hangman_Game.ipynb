{
 "cells": [
  {
   "cell_type": "code",
   "execution_count": null,
   "id": "e078acd6-c714-4c67-8c72-f5ebf13e43f9",
   "metadata": {},
   "outputs": [
    {
     "name": "stdout",
     "output_type": "stream",
     "text": [
      "Welcome to Hangman!\n",
      "Guess the word:\n",
      "__________\n"
     ]
    },
    {
     "name": "stdin",
     "output_type": "stream",
     "text": [
      "Enter a letter:  a\n"
     ]
    },
    {
     "name": "stdout",
     "output_type": "stream",
     "text": [
      "Good guess!\n",
      "___a______\n"
     ]
    },
    {
     "name": "stdin",
     "output_type": "stream",
     "text": [
      "Enter a letter:  b\n"
     ]
    },
    {
     "name": "stdout",
     "output_type": "stream",
     "text": [
      "Good guess!\n",
      "___a_b____\n"
     ]
    },
    {
     "name": "stdin",
     "output_type": "stream",
     "text": [
      "Enter a letter:  hu\n"
     ]
    },
    {
     "name": "stdout",
     "output_type": "stream",
     "text": [
      "Sorry, 'hu' is not in the word.\n",
      "You have 5 attempts left.\n",
      "___a_b____\n"
     ]
    }
   ],
   "source": [
    "import random\n",
    "\n",
    "def choose_word():\n",
    "    words = ['apple', 'banana', 'orange', 'grape', 'pineapple', 'strawberry', 'kiwi', 'watermelon']\n",
    "    return random.choice(words)\n",
    "\n",
    "def display_word(word, guessed_letters):\n",
    "    display = ''\n",
    "    for letter in word:\n",
    "        if letter in guessed_letters:\n",
    "            display += letter\n",
    "        else:\n",
    "            display += '_'\n",
    "    return display\n",
    "\n",
    "def hangman():\n",
    "    word = choose_word()\n",
    "    guessed_letters = []\n",
    "    incorrect_guesses = 0\n",
    "    max_attempts = 6\n",
    "\n",
    "    print(\"Welcome to Hangman!\")\n",
    "    print(\"Guess the word:\")\n",
    "\n",
    "    while True:\n",
    "        print(display_word(word, guessed_letters))\n",
    "        guess = input(\"Enter a letter: \").lower()\n",
    "\n",
    "        if guess in guessed_letters:\n",
    "            print(\"You already guessed that letter. Try again.\")\n",
    "            continue\n",
    "\n",
    "        guessed_letters.append(guess)\n",
    "\n",
    "        if guess not in word:\n",
    "            incorrect_guesses += 1\n",
    "            print(f\"Sorry, '{guess}' is not in the word.\")\n",
    "            print(f\"You have {max_attempts - incorrect_guesses} attempts left.\")\n",
    "            if incorrect_guesses >= max_attempts:\n",
    "                print(\"Game over! You've run out of attempts.\")\n",
    "                print(f\"The word was: {word}\")\n",
    "                break\n",
    "        else:\n",
    "            print(\"Good guess!\")\n",
    "\n",
    "        if all(letter in guessed_letters for letter in word):\n",
    "            print(\"Congratulations! You've guessed the word:\", word)\n",
    "            break\n",
    "\n",
    "# Start the game\n",
    "hangman()\n"
   ]
  },
  {
   "cell_type": "code",
   "execution_count": null,
   "id": "8d8da047-c27d-44fc-bb00-2c151f5269ae",
   "metadata": {},
   "outputs": [],
   "source": []
  }
 ],
 "metadata": {
  "kernelspec": {
   "display_name": "Python 3 (ipykernel)",
   "language": "python",
   "name": "python3"
  },
  "language_info": {
   "codemirror_mode": {
    "name": "ipython",
    "version": 3
   },
   "file_extension": ".py",
   "mimetype": "text/x-python",
   "name": "python",
   "nbconvert_exporter": "python",
   "pygments_lexer": "ipython3",
   "version": "3.11.2"
  }
 },
 "nbformat": 4,
 "nbformat_minor": 5
}
